{
 "cells": [
  {
   "cell_type": "code",
   "execution_count": 1,
   "metadata": {},
   "outputs": [],
   "source": [
    "import matplotlib.pyplot as plt\n",
    "import numpy as np"
   ]
  },
  {
   "cell_type": "code",
   "execution_count": 2,
   "metadata": {},
   "outputs": [
    {
     "name": "stdout",
     "output_type": "stream",
     "text": [
      "INIT SERVICE DATA\n"
     ]
    }
   ],
   "source": [
    "from environment.model_apps import apps\n",
    "from environment.model_infra import Infra\n",
    "from environment.constants import *\n",
    "\n",
    "N_APPS = len(apps)\n",
    "N_INFRA = Infra().getInfraSize()\n",
    "\n",
    "obs_size = OBSERVATION_SPACE_SIZE\n",
    "action_size = N_INFRA"
   ]
  },
  {
   "cell_type": "code",
   "execution_count": 5,
   "metadata": {},
   "outputs": [],
   "source": [
    "data = {}\n",
    "data[\"obs\"] = [[] for _ in range(N_APPS)]\n",
    "data[\"actions\"] = [[] for _ in range(N_APPS)]\n",
    "data[\"rewards\"] = []\n",
    "with open(\"data/results.csv\", \"r\") as f:\n",
    "    for l in f:\n",
    "        l = l.strip().split(\",\")\n",
    "        l = list(map(float, l))\n",
    "        for app in range(N_APPS):\n",
    "            data[\"obs\"][app].append(l[obs_size*app:obs_size*(app+1)])\n",
    "        for app in range(N_APPS):\n",
    "            data[\"actions\"][app].append(l[obs_size*N_APPS + action_size*app:obs_size*N_APPS + action_size*(app+1)])\n",
    "        data[\"rewards\"].append(l[len(l)-N_APPS:len(l)])\n",
    "\n",
    "data[\"obs\"] = np.array(data[\"obs\"])\n",
    "data[\"actions\"] = np.array(data[\"actions\"])\n",
    "data[\"rewards\"] = np.array(data[\"rewards\"])\n",
    "        "
   ]
  },
  {
   "cell_type": "code",
   "execution_count": 6,
   "metadata": {},
   "outputs": [
    {
     "ename": "IndexError",
     "evalue": "index 0 is out of bounds for axis 1 with size 0",
     "output_type": "error",
     "traceback": [
      "\u001b[1;31m---------------------------------------------------------------------------\u001b[0m",
      "\u001b[1;31mIndexError\u001b[0m                                Traceback (most recent call last)",
      "Cell \u001b[1;32mIn[6], line 4\u001b[0m\n\u001b[0;32m      2\u001b[0m plt\u001b[38;5;241m.\u001b[39mfigure()\n\u001b[0;32m      3\u001b[0m \u001b[38;5;28;01mfor\u001b[39;00m app \u001b[38;5;129;01min\u001b[39;00m \u001b[38;5;28mrange\u001b[39m(N_APPS):\n\u001b[1;32m----> 4\u001b[0m     plt\u001b[38;5;241m.\u001b[39mplot(\u001b[43mdata\u001b[49m\u001b[43m[\u001b[49m\u001b[38;5;124;43m\"\u001b[39;49m\u001b[38;5;124;43mrewards\u001b[39;49m\u001b[38;5;124;43m\"\u001b[39;49m\u001b[43m]\u001b[49m\u001b[43m[\u001b[49m\u001b[43m:\u001b[49m\u001b[38;5;241;43m100\u001b[39;49m\u001b[43m,\u001b[49m\u001b[43mapp\u001b[49m\u001b[43m]\u001b[49m, label\u001b[38;5;241m=\u001b[39m\u001b[38;5;28mstr\u001b[39m(app))\n\u001b[0;32m      5\u001b[0m plt\u001b[38;5;241m.\u001b[39mlegend()\n\u001b[0;32m      6\u001b[0m plt\u001b[38;5;241m.\u001b[39mtitle(\u001b[38;5;124m\"\u001b[39m\u001b[38;5;124mRewards\u001b[39m\u001b[38;5;124m\"\u001b[39m)\n",
      "\u001b[1;31mIndexError\u001b[0m: index 0 is out of bounds for axis 1 with size 0"
     ]
    },
    {
     "data": {
      "text/plain": [
       "<Figure size 640x480 with 0 Axes>"
      ]
     },
     "metadata": {},
     "output_type": "display_data"
    }
   ],
   "source": [
    "# rewards\n",
    "plt.figure()\n",
    "for app in range(N_APPS):\n",
    "    plt.plot(data[\"rewards\"][:100,app], label=str(app))\n",
    "plt.legend()\n",
    "plt.title(\"Rewards\")\n",
    "\n",
    "\n",
    "# requests\n",
    "\n",
    "plt.figure()\n",
    "plt.plot(np.sum(data[\"obs\"][:,:100,-1], axis=0))\n",
    "plt.title(\"Total requests\")\n",
    "\n",
    "plt.figure()\n",
    "for app in range(N_APPS):\n",
    "    plt.plot(data[\"obs\"][app,:100,-1], label=str(app))\n",
    "plt.legend()\n",
    "plt.title(\"Requests\")\n",
    "\n",
    "\n",
    "# actions\n",
    "\n",
    "for app in range(N_APPS):\n",
    "    plt.figure()\n",
    "    for i in range(N_INFRA):\n",
    "        plt.plot(data[\"actions\"][app,:100,i], label=str(i))\n",
    "    plt.legend()\n",
    "    plt.title(f\"Distribution of app {app}\")\n",
    "\n",
    "\n",
    "for s in range(N_INFRA):\n",
    "    plt.figure()\n",
    "    plt.plot(data[\"obs\"][0,:100,s])\n",
    "    plt.title(f\"Server {s} CPU load\")\n",
    "\n",
    "plt.show()\n"
   ]
  }
 ],
 "metadata": {
  "kernelspec": {
   "display_name": ".venv",
   "language": "python",
   "name": "python3"
  },
  "language_info": {
   "codemirror_mode": {
    "name": "ipython",
    "version": 3
   },
   "file_extension": ".py",
   "mimetype": "text/x-python",
   "name": "python",
   "nbconvert_exporter": "python",
   "pygments_lexer": "ipython3",
   "version": "3.11.9"
  }
 },
 "nbformat": 4,
 "nbformat_minor": 2
}
